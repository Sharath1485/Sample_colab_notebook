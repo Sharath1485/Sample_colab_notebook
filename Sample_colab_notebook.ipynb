{
  "nbformat": 4,
  "nbformat_minor": 0,
  "metadata": {
    "colab": {
      "name": "Untitled2.ipynb",
      "provenance": [],
      "authorship_tag": "ABX9TyNgEmEM0yaJGE8LxHzEE9qj",
      "include_colab_link": true
    },
    "kernelspec": {
      "name": "python3",
      "display_name": "Python 3"
    }
  },
  "cells": [
    {
      "cell_type": "markdown",
      "metadata": {
        "id": "view-in-github",
        "colab_type": "text"
      },
      "source": [
        "<a href=\"https://colab.research.google.com/github/Sharath1485/Sample_colab_notebook/blob/main/Sample_colab_notebook.ipynb\" target=\"_parent\"><img src=\"https://colab.research.google.com/assets/colab-badge.svg\" alt=\"Open In Colab\"/></a>"
      ]
    },
    {
      "cell_type": "code",
      "metadata": {
        "colab": {
          "base_uri": "https://localhost:8080/"
        },
        "id": "VZG6keBFEM5r",
        "outputId": "c920f142-ab0c-4cf2-d544-fb8ed198c7b8"
      },
      "source": [
        "pi = 3.14\r\n",
        "r = 2.0\r\n",
        "area = pi *(r**2)\r\n",
        "perim = 2.0*pi*r\r\n",
        "print (\"Given r: \", r)\r\n",
        "print (\" Area is: \", area)\r\n",
        "print (\" Perimeter is: \", perim)"
      ],
      "execution_count": 1,
      "outputs": [
        {
          "output_type": "stream",
          "text": [
            "Given r:  2.0\n",
            " Area is:  12.56\n",
            " Perimeter is:  12.56\n"
          ],
          "name": "stdout"
        }
      ]
    },
    {
      "cell_type": "code",
      "metadata": {
        "id": "oydvvyggNj0K"
      },
      "source": [
        ""
      ],
      "execution_count": null,
      "outputs": []
    }
  ]
}