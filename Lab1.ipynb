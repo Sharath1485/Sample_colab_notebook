{
  "nbformat": 4,
  "nbformat_minor": 0,
  "metadata": {
    "colab": {
      "name": "Untitled6.ipynb",
      "provenance": [],
      "authorship_tag": "ABX9TyNEs1t1GGedy6yn7YB+rBfD",
      "include_colab_link": true
    },
    "kernelspec": {
      "name": "python3",
      "display_name": "Python 3"
    }
  },
  "cells": [
    {
      "cell_type": "markdown",
      "metadata": {
        "id": "view-in-github",
        "colab_type": "text"
      },
      "source": [
        "<a href=\"https://colab.research.google.com/github/Sharath1485/Sample_colab_notebook/blob/main/Lab1.ipynb\" target=\"_parent\"><img src=\"https://colab.research.google.com/assets/colab-badge.svg\" alt=\"Open In Colab\"/></a>"
      ]
    },
    {
      "cell_type": "code",
      "metadata": {
        "colab": {
          "base_uri": "https://localhost:8080/"
        },
        "id": "_Oh0qH5C_yWA",
        "outputId": "fcd206cc-67ab-4e6b-b3a2-b786a4d0e64e"
      },
      "source": [
        "#Name : Sharath Kumar, Mandalapu\r\n",
        "#Date Created : 3/5/2021\r\n",
        "#Version : 3.7.2\r\n",
        "#This code is to calculates agriculture land and rain runoff in Kenya\r\n",
        "\r\n",
        "#Plot length\r\n",
        "plot_length=50\r\n",
        "print (\"plot_length is:\",plot_length)\r\n",
        "\r\n",
        "#Plot width\r\n",
        "plot_width=20\r\n",
        "print (\"plot_width is:\",plot_width)\r\n",
        "\r\n",
        "#Rainfall in inches\r\n",
        "rainfall_inches=1\r\n",
        "print(\"rainfall_inches is:\",rainfall_inches)\r\n",
        "\r\n",
        "#Converting plot length and width from inches to foot\r\n",
        "length_in_inches=plot_length*12\r\n",
        "width_in_inches=plot_width*12\r\n",
        "\r\n",
        "#Calculating plot volumn in cubic inches\r\n",
        "plot_volumn_in_cubic_inches=length_in_inches*width_in_inches*rainfall_inches\r\n",
        "\r\n",
        "#Converting rain runoff in the given area from cubic inches to gallons\r\n",
        "plot_volume_in_gallons=plot_volumn_in_cubic_inches*0.004329018\r\n",
        "\r\n",
        "print(\"runoff_gallons is:\",\"{:.2f}\".format(plot_volume_in_gallons))"
      ],
      "execution_count": null,
      "outputs": [
        {
          "output_type": "stream",
          "text": [
            "plot_length is: 50\n",
            "plot_width is: 20\n",
            "rainfall_inches is: 1\n",
            "runoff_gallons is: 623.38\n"
          ],
          "name": "stdout"
        }
      ]
    }
  ]
}